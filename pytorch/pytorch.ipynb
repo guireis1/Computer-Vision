{
 "cells": [
  {
   "cell_type": "code",
   "execution_count": 22,
   "metadata": {},
   "outputs": [],
   "source": [
    "import torch\n",
    "import torch.nn as nn\n",
    "from torch.autograd import Variable\n",
    "from torch.utils.data import DataLoader\n",
    "import pandas as pd\n",
    "from sklearn.model_selection import train_test_split\n",
    "import numpy as np\n",
    "import matplotlib.pyplot as plt"
   ]
  },
  {
   "cell_type": "code",
   "execution_count": 4,
   "metadata": {},
   "outputs": [],
   "source": [
    "train=pd.read_csv(\"digit-recognizer/train.csv\",dtype=np.float32)"
   ]
  },
  {
   "cell_type": "code",
   "execution_count": 5,
   "metadata": {},
   "outputs": [],
   "source": [
    "targets_numpy=train.label.values"
   ]
  },
  {
   "cell_type": "code",
   "execution_count": 8,
   "metadata": {},
   "outputs": [],
   "source": [
    "features_numpy=train.loc[:,train.columns != \"label\"].values/255"
   ]
  },
  {
   "cell_type": "code",
   "execution_count": 9,
   "metadata": {},
   "outputs": [],
   "source": [
    "features_train, features_test, targets_train, targets_test = train_test_split(features_numpy,\n",
    "                                                                             targets_numpy,\n",
    "                                                                             test_size = 0.2,\n",
    "                                                                             random_state = 42) "
   ]
  },
  {
   "cell_type": "code",
   "execution_count": 12,
   "metadata": {},
   "outputs": [],
   "source": [
    "featuresTrain=torch.from_numpy(features_train)\n",
    "targetsTrain=torch.from_numpy(targets_train).type(torch.LongTensor)"
   ]
  },
  {
   "cell_type": "code",
   "execution_count": 13,
   "metadata": {},
   "outputs": [],
   "source": [
    "featuresTest = torch.from_numpy(features_test)\n",
    "targetsTest = torch.from_numpy(targets_test).type(torch.LongTensor)"
   ]
  },
  {
   "cell_type": "code",
   "execution_count": 16,
   "metadata": {},
   "outputs": [],
   "source": [
    "batch_size = 100\n",
    "n_iters = 10000\n",
    "num_epochs = n_iters / (len(features_train) / batch_size)\n",
    "num_epochs = int(num_epochs)"
   ]
  },
  {
   "cell_type": "code",
   "execution_count": 18,
   "metadata": {},
   "outputs": [],
   "source": [
    "train = torch.utils.data.TensorDataset(featuresTrain,targetsTrain)\n",
    "test = torch.utils.data.TensorDataset(featuresTest,targetsTest)"
   ]
  },
  {
   "cell_type": "code",
   "execution_count": 20,
   "metadata": {},
   "outputs": [],
   "source": [
    "train_loader = DataLoader(train, batch_size = batch_size, shuffle = False)\n",
    "test_loader = DataLoader(test, batch_size = batch_size, shuffle = False)"
   ]
  },
  {
   "cell_type": "code",
   "execution_count": 26,
   "metadata": {},
   "outputs": [
    {
     "output_type": "display_data",
     "data": {
      "text/plain": "<Figure size 432x288 with 1 Axes>",
      "image/svg+xml": "<?xml version=\"1.0\" encoding=\"utf-8\" standalone=\"no\"?>\n<!DOCTYPE svg PUBLIC \"-//W3C//DTD SVG 1.1//EN\"\n  \"http://www.w3.org/Graphics/SVG/1.1/DTD/svg11.dtd\">\n<!-- Created with matplotlib (https://matplotlib.org/) -->\n<svg height=\"246.958125pt\" version=\"1.1\" viewBox=\"0 0 231.84 246.958125\" width=\"231.84pt\" xmlns=\"http://www.w3.org/2000/svg\" xmlns:xlink=\"http://www.w3.org/1999/xlink\">\n <defs>\n  <style type=\"text/css\">\n*{stroke-linecap:butt;stroke-linejoin:round;}\n  </style>\n </defs>\n <g id=\"figure_1\">\n  <g id=\"patch_1\">\n   <path d=\"M 0 246.958125 \nL 231.84 246.958125 \nL 231.84 0 \nL 0 0 \nz\n\" style=\"fill:none;\"/>\n  </g>\n  <g id=\"axes_1\">\n   <g clip-path=\"url(#p5c7f4cfed9)\">\n    <image height=\"218\" id=\"imagee356b90da8\" transform=\"scale(1 -1)translate(0 -218)\" width=\"218\" x=\"7.2\" xlink:href=\"data:image/png;base64,\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\" y=\"-21.758125\"/>\n   </g>\n   <g id=\"text_1\">\n    <!-- 9.0 -->\n    <defs>\n     <path d=\"M 10.984375 1.515625 \nL 10.984375 10.5 \nQ 14.703125 8.734375 18.5 7.8125 \nQ 22.3125 6.890625 25.984375 6.890625 \nQ 35.75 6.890625 40.890625 13.453125 \nQ 46.046875 20.015625 46.78125 33.40625 \nQ 43.953125 29.203125 39.59375 26.953125 \nQ 35.25 24.703125 29.984375 24.703125 \nQ 19.046875 24.703125 12.671875 31.3125 \nQ 6.296875 37.9375 6.296875 49.421875 \nQ 6.296875 60.640625 12.9375 67.421875 \nQ 19.578125 74.21875 30.609375 74.21875 \nQ 43.265625 74.21875 49.921875 64.515625 \nQ 56.59375 54.828125 56.59375 36.375 \nQ 56.59375 19.140625 48.40625 8.859375 \nQ 40.234375 -1.421875 26.421875 -1.421875 \nQ 22.703125 -1.421875 18.890625 -0.6875 \nQ 15.09375 0.046875 10.984375 1.515625 \nz\nM 30.609375 32.421875 \nQ 37.25 32.421875 41.125 36.953125 \nQ 45.015625 41.5 45.015625 49.421875 \nQ 45.015625 57.28125 41.125 61.84375 \nQ 37.25 66.40625 30.609375 66.40625 \nQ 23.96875 66.40625 20.09375 61.84375 \nQ 16.21875 57.28125 16.21875 49.421875 \nQ 16.21875 41.5 20.09375 36.953125 \nQ 23.96875 32.421875 30.609375 32.421875 \nz\n\" id=\"DejaVuSans-57\"/>\n     <path d=\"M 10.6875 12.40625 \nL 21 12.40625 \nL 21 0 \nL 10.6875 0 \nz\n\" id=\"DejaVuSans-46\"/>\n     <path d=\"M 31.78125 66.40625 \nQ 24.171875 66.40625 20.328125 58.90625 \nQ 16.5 51.421875 16.5 36.375 \nQ 16.5 21.390625 20.328125 13.890625 \nQ 24.171875 6.390625 31.78125 6.390625 \nQ 39.453125 6.390625 43.28125 13.890625 \nQ 47.125 21.390625 47.125 36.375 \nQ 47.125 51.421875 43.28125 58.90625 \nQ 39.453125 66.40625 31.78125 66.40625 \nz\nM 31.78125 74.21875 \nQ 44.046875 74.21875 50.515625 64.515625 \nQ 56.984375 54.828125 56.984375 36.375 \nQ 56.984375 17.96875 50.515625 8.265625 \nQ 44.046875 -1.421875 31.78125 -1.421875 \nQ 19.53125 -1.421875 13.0625 8.265625 \nQ 6.59375 17.96875 6.59375 36.375 \nQ 6.59375 54.828125 13.0625 64.515625 \nQ 19.53125 74.21875 31.78125 74.21875 \nz\n\" id=\"DejaVuSans-48\"/>\n    </defs>\n    <g transform=\"translate(106.378125 16.318125)scale(0.12 -0.12)\">\n     <use xlink:href=\"#DejaVuSans-57\"/>\n     <use x=\"63.623047\" xlink:href=\"#DejaVuSans-46\"/>\n     <use x=\"95.410156\" xlink:href=\"#DejaVuSans-48\"/>\n    </g>\n   </g>\n  </g>\n </g>\n <defs>\n  <clipPath id=\"p5c7f4cfed9\">\n   <rect height=\"217.44\" width=\"217.44\" x=\"7.2\" y=\"22.318125\"/>\n  </clipPath>\n </defs>\n</svg>\n",
      "image/png": "[encoded data removed]"
     },
     "metadata": {
      "needs_background": "light"
     }
    }
   ],
   "source": [
    "plt.imshow(features_numpy[11].reshape(28,28))\n",
    "plt.axis(\"off\")\n",
    "plt.title(str(targets_numpy[11]))\n",
    "plt.savefig('graph.png')\n",
    "plt.show()"
   ]
  },
  {
   "cell_type": "code",
   "execution_count": 33,
   "metadata": {},
   "outputs": [],
   "source": [
    "class LogisticRegressionModel (nn.Module):\n",
    "    def __init__(self,input_dim,output_dim):\n",
    "        super(LogisticRegressionModel,self).__init__()\n",
    "        self.linear=nn.Linear(input_dim,output_dim)\n",
    "    def forward(self,x):\n",
    "        out= self.linear(x)\n",
    "        return out"
   ]
  },
  {
   "cell_type": "code",
   "execution_count": 29,
   "metadata": {},
   "outputs": [],
   "source": [
    "input_dim=28*28\n",
    "output_dim=10"
   ]
  },
  {
   "cell_type": "code",
   "execution_count": 34,
   "metadata": {},
   "outputs": [],
   "source": [
    "model= LogisticRegressionModel(input_dim,output_dim)\n",
    "\n",
    "error=nn.CrossEntropyLoss()\n",
    "\n",
    "learning_rate=0.001\n",
    "\n",
    "optimizer=torch.optim.SGD(model.parameters(),lr=learning_rate)"
   ]
  },
  {
   "cell_type": "code",
   "execution_count": 35,
   "metadata": {},
   "outputs": [
    {
     "output_type": "stream",
     "name": "stdout",
     "text": "Iteration: 500  Loss: 1.8326765298843384  Accuracy: 67.32142639160156%\nIteration: 1000  Loss: 1.608359932899475  Accuracy: 75.6547622680664%\nIteration: 1500  Loss: 1.299942970275879  Accuracy: 78.3452377319336%\nIteration: 2000  Loss: 1.1987583637237549  Accuracy: 80.05952453613281%\nIteration: 2500  Loss: 1.0348283052444458  Accuracy: 81.03571319580078%\nIteration: 3000  Loss: 0.9249476790428162  Accuracy: 81.91666412353516%\nIteration: 3500  Loss: 0.906690239906311  Accuracy: 82.4047622680664%\nIteration: 4000  Loss: 0.7568857669830322  Accuracy: 82.96428680419922%\nIteration: 4500  Loss: 0.9752069115638733  Accuracy: 83.26190185546875%\nIteration: 5000  Loss: 0.8095564246177673  Accuracy: 83.58333587646484%\nIteration: 5500  Loss: 0.7514858245849609  Accuracy: 83.83333587646484%\nIteration: 6000  Loss: 0.8788732886314392  Accuracy: 84.22618865966797%\nIteration: 6500  Loss: 0.6623538732528687  Accuracy: 84.45237731933594%\nIteration: 7000  Loss: 0.715488612651825  Accuracy: 84.75%\nIteration: 7500  Loss: 0.6329598426818848  Accuracy: 84.89286041259766%\nIteration: 8000  Loss: 0.7329736948013306  Accuracy: 85.10713958740234%\nIteration: 8500  Loss: 0.547500729560852  Accuracy: 85.30952453613281%\nIteration: 9000  Loss: 0.6606194376945496  Accuracy: 85.41666412353516%\nIteration: 9500  Loss: 0.5235617756843567  Accuracy: 85.53571319580078%\n"
    }
   ],
   "source": [
    "count = 0\n",
    "loss_list = []\n",
    "iteration_list = []\n",
    "for epoch in range(num_epochs):\n",
    "    for i, (images, labels) in enumerate(train_loader):\n",
    "        \n",
    "        # Define variables\n",
    "        train = Variable(images.view(-1, 28*28))\n",
    "        labels = Variable(labels)\n",
    "        \n",
    "        # Clear gradients\n",
    "        optimizer.zero_grad()\n",
    "        \n",
    "        # Forward propagation\n",
    "        outputs = model(train)\n",
    "        \n",
    "        # Calculate softmax and cross entropy loss\n",
    "        loss = error(outputs, labels)\n",
    "        \n",
    "        # Calculate gradients\n",
    "        loss.backward()\n",
    "        \n",
    "        # Update parameters\n",
    "        optimizer.step()\n",
    "        \n",
    "        count += 1\n",
    "        \n",
    "        # Prediction\n",
    "        if count % 50 == 0:\n",
    "            # Calculate Accuracy         \n",
    "            correct = 0\n",
    "            total = 0\n",
    "            # Predict test dataset\n",
    "            for images, labels in test_loader: \n",
    "                test = Variable(images.view(-1, 28*28))\n",
    "                \n",
    "                # Forward propagation\n",
    "                outputs = model(test)\n",
    "                \n",
    "                # Get predictions from the maximum value\n",
    "                predicted = torch.max(outputs.data, 1)[1]\n",
    "                \n",
    "                # Total number of labels\n",
    "                total += len(labels)\n",
    "                \n",
    "                # Total correct predictions\n",
    "                correct += (predicted == labels).sum()\n",
    "            \n",
    "            accuracy = 100 * correct / float(total)\n",
    "            \n",
    "            # store loss and iteration\n",
    "            loss_list.append(loss.data)\n",
    "            iteration_list.append(count)\n",
    "        if count % 500 == 0:\n",
    "            # Print Loss\n",
    "            print('Iteration: {}  Loss: {}  Accuracy: {}%'.format(count, loss.data, accuracy))"
   ]
  },
  {
   "cell_type": "code",
   "execution_count": null,
   "metadata": {},
   "outputs": [],
   "source": []
  }
 ],
 "metadata": {
  "language_info": {
   "codemirror_mode": {
    "name": "ipython",
    "version": 3
   },
   "file_extension": ".py",
   "mimetype": "text/x-python",
   "name": "python",
   "nbconvert_exporter": "python",
   "pygments_lexer": "ipython3",
   "version": "3.7.6-final"
  },
  "orig_nbformat": 2,
  "kernelspec": {
   "name": "python37664bitbaseconda2784c97c2cd54b76ac6c6bdfcbef07a4",
   "display_name": "Python 3.7.6 64-bit ('base': conda)"
  }
 },
 "nbformat": 4,
 "nbformat_minor": 2
}